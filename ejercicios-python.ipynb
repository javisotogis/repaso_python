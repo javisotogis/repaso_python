{
 "cells": [
  {
   "cell_type": "markdown",
   "metadata": {},
   "source": [
    "#### Ejercicio 1\n",
    "\n",
    "Devuelve el número de vocales en una cadena dada. Consideraremos `a, e, i, o, u` como vocales. \n",
    "\n",
    "Por ejemplo: \n",
    "\n",
    "```python\n",
    "print(get_count(\"Hola Buenos Dias\")) # devuelve 7 \n",
    "print(get_count(\"Python Mola\")) # devuelve 3\n",
    "print(get_count(\"REPASANDO EJERCICIOS\")) # devuelve 9\n",
    "```"
   ]
  },
  {
   "cell_type": "code",
   "execution_count": 1,
   "metadata": {},
   "outputs": [
    {
     "data": {
      "text/plain": [
       "6"
      ]
     },
     "execution_count": 1,
     "metadata": {},
     "output_type": "execute_result"
    }
   ],
   "source": [
    "mi_frase = 'Por lo que sea'\n",
    "\n",
    "def get_count(frase):\n",
    "    lista_vocales = []\n",
    "    for l in frase:\n",
    "        if l == 'a' or l == 'e' or l == 'i' or l == 'o' or l == 'u':\n",
    "            lista_vocales.append(l)\n",
    "    \n",
    "    count = len(lista_vocales)\n",
    "    return count\n",
    "\n",
    "get_count(mi_frase)\n"
   ]
  },
  {
   "cell_type": "markdown",
   "metadata": {},
   "source": [
    "#### Ejercicio 2\n",
    "\n",
    "Eleva al cuadrado cada dígito de un número y unelos. Por ejemplo, si pasas el número 9119 a la función, obtendras 811181, porque \\(9^2\\) ￼ es 81 y ￼\\(1^2\\) es 1. (81-1-1-81). Otro ejemplo, un número de 765 debería devolver 493625 porque \\(7^2\\) ￼ es 49,  \\(6^2\\) ￼ es 36 y ￼\\(5^2\\)  es 25. (49-36-25)\n",
    "\n",
    "```python\n",
    "print(square_digits(123)) # devuelve 149\n",
    "print(square_digits(12345)) # devuelve 1491625\n",
    "print(square_digits(34)) # devuelve 916\n",
    "```\n"
   ]
  },
  {
   "cell_type": "code",
   "execution_count": null,
   "metadata": {},
   "outputs": [
    {
     "data": {
      "text/plain": [
       "363636"
      ]
     },
     "execution_count": 5,
     "metadata": {},
     "output_type": "execute_result"
    }
   ],
   "source": [
    "my_numnber = 666\n",
    "\n",
    "def square_digits(int_number):\n",
    "    lista = []\n",
    "    lista_numeros = str(int_number)\n",
    "    for n in lista_numeros:\n",
    "        square = (int(n)**2)\n",
    "        lista.append(str(square))\n",
    "    joined_numbers =  \"\".join(lista)\n",
    "    joined_int = int(joined_numbers)\n",
    "    return joined_int\n",
    "square_digits(my_numnber)"
   ]
  },
  {
   "cell_type": "markdown",
   "metadata": {},
   "source": [
    "#### Ejercicio 3\n",
    "\n",
    "Escribe una función que reciba una cadena de texto compuesta por una o más palabras, y devuelva la misma cadena, pero con todas las palabras de cinco o más letras invertidas. \n",
    "\n",
    "```python\n",
    "print(spin_words(\"Hey fellow warriors\")) # Hey wollef sroirraw\n",
    "print(spin_words(\"This is a test\")) # This is a test\n",
    "print(spin_words(\"This is another test\")) # This is rehtona test\n",
    "```"
   ]
  },
  {
   "cell_type": "code",
   "execution_count": 13,
   "metadata": {},
   "outputs": [
    {
     "data": {
      "text/plain": [
       "'Hola muy saneub a sodot y sadot los sonmula de este osollivaram osruc'"
      ]
     },
     "execution_count": 13,
     "metadata": {},
     "output_type": "execute_result"
    }
   ],
   "source": [
    "text_string = 'Hola muy buenas a todos y todas los alumnos de este maravilloso curso'\n",
    "\n",
    "def convert(lst):\n",
    "    return ([i for i in lst.split()])  # https://www.geeksforgeeks.org/python-spilt-a-sentence-into-list-of-words/\n",
    "\n",
    "\n",
    "new_text_string = convert(text_string)\n",
    "#print(new_text_string)\n",
    "\n",
    "\n",
    "def spin_words(text_string):\n",
    "    lista = []\n",
    "    for t in text_string:\n",
    "        if len(t) > 4:\n",
    "            lista.append(t[::-1]) # https://www.w3schools.com/python/python_howto_reverse_string.asp\n",
    "        else:\n",
    "            lista.append(t)\n",
    "    return  \" \".join(lista)\n",
    "\n",
    "spin_words(new_text_string)\n"
   ]
  },
  {
   "cell_type": "markdown",
   "metadata": {},
   "source": [
    "#### Ejercicio 4\n",
    "\n",
    "Probablemente conozcas el sistema de “me gusta” de Facebook y otras plataformas. Las personas pueden dar “me gusta” a publicaciones, imágenes u otros elementos. Tienes que crear el texto que se debe mostrar junto a dicho elemento. Crea una función que reciba una lista con los nombres de las personas que dieron “me gusta” a un elemento. La función debe devolver el texto mostrado según los ejemplos:\n",
    "\n",
    "```python\n",
    "print(likes([\"Peter\"])) # devuelve \"Peter likes this\"\n",
    "print(likes([\"Jacob\", \"Alex\"] )) # devuelve \"Jacob and Alex like this\"\n",
    "print(likes([\"Max\", \"John\", \"Mark\"])) # devuelve \"Max, John and Mark like this\"\n",
    "print(likes([\"Max\", \"John\", \"Mark\", \"Max\"])) # devuelve \"Max, John and 2 others like this\"\n",
    "```"
   ]
  },
  {
   "cell_type": "code",
   "execution_count": 14,
   "metadata": {},
   "outputs": [
    {
     "name": "stdout",
     "output_type": "stream",
     "text": [
      " Fulano, Mengano and 2 others like this\n"
     ]
    }
   ],
   "source": [
    "lista = ['Fulano', 'Mengano', 'Gerardo', 'Bartola']\n",
    "\n",
    "def likes (lista):\n",
    "\n",
    "    if len(lista) == 1:\n",
    "\n",
    "        print(f' {lista[0]} likes this')\n",
    "    \n",
    "    if len(lista) == 2:\n",
    "\n",
    "        print(f' {lista[0]}, {lista[1]} like this')\n",
    "\n",
    "    if len(lista) > 2:\n",
    "\n",
    "        print(f' {lista[0]}, {lista[1]} and 2 others like this')\n",
    "\n",
    "\n",
    "likes(lista)\n",
    "\n",
    "\n",
    "\n"
   ]
  },
  {
   "cell_type": "markdown",
   "metadata": {},
   "source": [
    "#### Ejercicio 5\n",
    "\n",
    "Crea una función que tome una lista de enteros no negativos y cadenas de texto, y devuelva una nueva lista con las cadenas filtradas (es decir, eliminadas).\n",
    "\n",
    "```python\n",
    "print(filter_list([1, 2, 'a', 'b'])) # devuelve [1, 2]\n",
    "print(filter_list([1, 'a', 'b', 0, 15])) # devuelve [1, 0, 15]\n",
    "print(filter_list([1, 2, 'aasf', '1', '123', 123])) # devuelve [1, 2, 123]\n",
    "```"
   ]
  },
  {
   "cell_type": "code",
   "execution_count": 22,
   "metadata": {},
   "outputs": [
    {
     "name": "stdout",
     "output_type": "stream",
     "text": [
      "Remvoing Fulano from list\n",
      "Remvoing Mengano from list\n",
      "Remvoing Gerardo from list\n",
      "Remvoing Bartola from list\n"
     ]
    },
    {
     "data": {
      "text/plain": [
       "[56, 0, 14, 77]"
      ]
     },
     "execution_count": 22,
     "metadata": {},
     "output_type": "execute_result"
    }
   ],
   "source": [
    "lista = ['Fulano', 56, 'Mengano', 0, 'Gerardo', 14, 'Bartola', 77]\n",
    "def filter_list(lista):\n",
    "    for i in lista:\n",
    "        print(f'Remvoing {i} from list')\n",
    "        if i.isalpha():\n",
    "            lista.remove(i)\n",
    "    \n",
    "    return(lista)\n",
    "filter_list(lista)\n",
    "\n"
   ]
  },
  {
   "cell_type": "markdown",
   "metadata": {},
   "source": [
    "#### Ejercicio 6\n",
    "\n",
    "Mueve la primera letra de cada palabra al final de la misma, luego agrega “ay” al final de la palabra. Deja los signos de puntuación sin cambios.\n",
    "\n",
    "```python\n",
    "print(pig_it('Pig latin is cool')) # devuelve \"igPay atinlay siay oolcay\"\n",
    "print(pig_it('This is my string')) # devuelve \"hisTay siay ymay tringsay\"\n",
    "```"
   ]
  },
  {
   "cell_type": "code",
   "execution_count": 29,
   "metadata": {},
   "outputs": [
    {
     "data": {
      "text/plain": [
       "'lAay taqueeeaay istroFay ecadorpay eday alay raderapay orpay alay loriagay eday utay adremay'"
      ]
     },
     "execution_count": 29,
     "metadata": {},
     "output_type": "execute_result"
    }
   ],
   "source": [
    "text = \"Al ataqueee Fistro pecador de la pradera por la gloria de tu madre\"\n",
    "\n",
    "def convert(lst):\n",
    "    return ([i for i in lst.split()])  # https://www.geeksforgeeks.org/python-spilt-a-sentence-into-list-of-words/\n",
    "\n",
    "\n",
    "new_text_string = convert(text)\n",
    "\n",
    "def pig_it(new_text_string):\n",
    "    new_list = []\n",
    "    for t in new_text_string:\n",
    "        t = t[1:] + t[0] + 'ay'\n",
    "        new_list.append(t)\n",
    "    return  \" \".join(new_list)\n",
    "\n",
    "pig_it(new_text_string)   \n"
   ]
  },
  {
   "cell_type": "markdown",
   "metadata": {},
   "source": [
    "#### Ejercicio 7\n",
    "\n",
    "A Pete le gusta hornear pasteles. Tiene algunas recetas e ingredientes. Desafortunadamente, no es bueno con las matemáticas. ¿Puedes ayudarlo a averiguar cuántos pasteles puede hornear considerando sus recetas? Escribe una función que reciba la receta  y los ingredientes disponibles y devuelva el número máximo de pasteles que Pete puede hornear. Para simplificar, no hay unidades para las cantidades (por ejemplo, 1 libra de harina o 200 gramos de azúcar son simplemente 1 o 200). Los ingredientes que no están presentes en los objetos se pueden considerar como 0.\n",
    "\n",
    "```python\n",
    "recipe = {\"flour\": 500, \"sugar\": 200, \"eggs\": 1}\n",
    "available = {\"flour\": 1200, \"sugar\": 1200, \"eggs\": 5, \"milk\": 200}\n",
    "print(cakes(recipe, available)) # devuelve 2 bizcochos\n",
    "\n",
    "recipe = {\"apples\": 3, \"flour\": 300, \"sugar\": 150, \"milk\": 100, \"oil\": 100}\n",
    "available = {\"sugar\": 500, \"flour\": 2000, \"milk\": 2000}\n",
    "print(cakes(recipe, available)) # devuelve 0 bizcochos\n",
    "\n",
    "```"
   ]
  },
  {
   "cell_type": "code",
   "execution_count": null,
   "metadata": {},
   "outputs": [
    {
     "name": "stdout",
     "output_type": "stream",
     "text": [
      "flour\n",
      "[2]\n",
      "sugar\n",
      "[2, 6]\n",
      "eggs\n",
      "[2, 6, 5]\n",
      "2\n",
      "flour\n",
      "[0, 6]\n",
      "sugar\n",
      "[0, 6, 3]\n",
      "milk\n",
      "[0, 6, 3, 20]\n",
      "0\n"
     ]
    }
   ],
   "source": [
    "def cakes(recipe, available):\n",
    "    lista = []\n",
    "\n",
    "    for ingredient in recipe:\n",
    "        if ingredient in available:\n",
    "            #print(ingredient)\n",
    "            lista.append(available[ingredient] // recipe[ingredient])\n",
    "            #print(lista)\n",
    "        else:\n",
    "\n",
    "            lista.append(0)\n",
    "    \n",
    "    return min(lista)\n",
    "\n",
    "\n",
    "recipe = {\"flour\": 500, \"sugar\": 200, \"eggs\": 1}\n",
    "available = {\"flour\": 1200, \"sugar\": 1200, \"eggs\": 5, \"milk\": 200}\n",
    "print(cakes(recipe, available)) # devuelve 2 bizcochos\n",
    "\n",
    "recipe = {\"apples\": 3, \"flour\": 300, \"sugar\": 150, \"milk\": 100, \"oil\": 100}\n",
    "available = {\"sugar\": 500, \"flour\": 2000, \"milk\": 2000}\n",
    "print(cakes(recipe, available)) # devuelve 0 bizcochos\n",
    "\n",
    "\n",
    "\n",
    "# 1) comprobar las keys de la receta y las dispobiles. Si alguna de las disponibles no esta en la receta, encontes directamente no se puede hacer\n",
    "\n",
    "# 2) Si lo que esta disponible se puede ahcer en la receta, \n",
    "\n",
    "# 2.1 entonces usas las keys para jungar los dos diccionarios y realizar una division de unidades. \n",
    "\n",
    "# 2.2 redondear el output de la division anterior a enteros\n",
    "\n",
    "# 2.3 Quedarnos con el entero mas bajo\n"
   ]
  },
  {
   "cell_type": "markdown",
   "metadata": {},
   "source": [
    "#### Ejercicio 8\n",
    "\n",
    "Debes validar si una cadena de entrada del usuario es alfanumérica. La cadena debe cumplir con las siguientes condiciones para ser alfanumérica:\n",
    "\n",
    "•\tContener al menos un carácter (”” no es válido).\n",
    "\n",
    "•\tLos caracteres permitidos son letras latinas en mayúsculas/minúsculas y dígitos del 0 al 9.\n",
    "\n",
    "•\tNo debe contener espacios en blanco ni guiones bajos (_).\n",
    "\n",
    "```python\n",
    "print(alphanumeric(\"hello world_\")) # devuelve False\n",
    "print(alphanumeric(\"PassW0rd\")) # devuelve True\n",
    "print(alphanumeric(\"L0La\")) # devuelve True\n",
    "```"
   ]
  },
  {
   "cell_type": "code",
   "execution_count": 50,
   "metadata": {},
   "outputs": [
    {
     "name": "stdout",
     "output_type": "stream",
     "text": [
      "False\n",
      "True\n",
      "True\n"
     ]
    }
   ],
   "source": [
    "\n",
    "def alphanumeric(text):\n",
    "    for t in text:\n",
    "        if t == ' ' or t == '_':\n",
    "           return False\n",
    "        if t.isnumeric():\n",
    "            if int(t) >= 0 and int(t) <= 9:\n",
    "                return True\n",
    "        if not t.isalnum():\n",
    "            return True \n",
    "\n",
    "\n",
    "print(alphanumeric(\"hello world_\")) # devuelve False\n",
    "print(alphanumeric(\"PassW0rd\")) # devuelve True\n",
    "print(alphanumeric(\"L0La\")) # devuelve True"
   ]
  }
 ],
 "metadata": {
  "kernelspec": {
   "display_name": "geo_analytics",
   "language": "python",
   "name": "python3"
  },
  "language_info": {
   "codemirror_mode": {
    "name": "ipython",
    "version": 3
   },
   "file_extension": ".py",
   "mimetype": "text/x-python",
   "name": "python",
   "nbconvert_exporter": "python",
   "pygments_lexer": "ipython3",
   "version": "3.13.0"
  }
 },
 "nbformat": 4,
 "nbformat_minor": 2
}
